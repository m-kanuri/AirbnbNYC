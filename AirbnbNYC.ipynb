{
 "cells": [
  {
   "cell_type": "markdown",
   "metadata": {},
   "source": [
    "# MACHINE LEARNING: AIRBNB ANALYSIS\n",
    "\n",
    "## TEAM 2 AUTHORS\n",
    "* Ahmed Husain\n",
    "* Dinh (Danty) Khoi\n",
    "* Maria Ingold\n",
    "* Murthy Kanuri\n",
    "\n",
    "## PROJECT DESCRIPTION\n",
    "### Development Team Project\n",
    "\n",
    "Determine interesting business analytic substantive question answered by dataset that is useful for the Airbnb executive board.\n",
    "\n",
    "### Business Analytic Question\n",
    "#### Agreed by: Ahmed, Danty, Maria, Murthy\n",
    "What factors influence Airbnb listing prices in NYC, and how can Airbnb provide tailored pricing recommendations based on location, room type, and host characteristics?  \n",
    "\n",
    "### Source Dataset: Airbnb NYC 2019 \n",
    "\n",
    "[![Open In Kaggle](https://kaggle.com/static/images/open-in-kaggle.svg)](https://www.kaggle.com/dgomonov/new-york-city-airbnb-open-data)    \n",
    "\n",
    "## CODE\n",
    "\n",
    "[![Open In GitHub](https://img.shields.io/badge/Open%20In-GitHub-lightgrey?logo=github)](https://github.com/mariaingold/AirbnbNYC/AirbnbNYC.ipynb)  \n",
    "\n",
    "[![Open In Colab](https://colab.research.google.com/assets/colab-badge.svg)](https://colab.research.google.com/github/mariaingold/AirbnbNYC/blob/main/AirbnbNYC.ipynb)\n",
    "\n",
    "## SETUP\n",
    "\n",
    "### Libraries "
   ]
  },
  {
   "cell_type": "code",
   "execution_count": null,
   "metadata": {},
   "outputs": [],
   "source": [
    "import pandas as pd             # data manipulation\n",
    "import numpy as np              # numerical computation"
   ]
  },
  {
   "cell_type": "markdown",
   "metadata": {},
   "source": [
    "### Upload files\n",
    "\n",
    "### Read / Load CSV Data\n",
    "\n",
    "### Basic Data Exploration\n",
    "\n",
    "### DATA PREPROCESSING\n",
    "\n",
    "### EXPLORATORY DATA ANALYSIS\n",
    "\n",
    "### MODELING\n",
    "\n",
    "### EVALUATION"
   ]
  }
 ],
 "metadata": {
  "language_info": {
   "name": "python"
  }
 },
 "nbformat": 4,
 "nbformat_minor": 2
}
